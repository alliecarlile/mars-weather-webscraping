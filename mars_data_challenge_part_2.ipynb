{
 "cells": [
  {
   "cell_type": "code",
   "execution_count": 1,
   "id": "1f5b8b9e",
   "metadata": {},
   "outputs": [],
   "source": [
    "#import dependencies \n",
    "from splinter import Browser\n",
    "from bs4 import BeautifulSoup as bs\n",
    "from webdriver_manager.chrome import ChromeDriverManager\n",
    "import pandas as pd\n",
    "import matplotlib.pyplot as plt\n",
    "import os"
   ]
  },
  {
   "cell_type": "code",
   "execution_count": 2,
   "id": "9669eea6",
   "metadata": {},
   "outputs": [],
   "source": [
    "executable_path = {'executable_path': ChromeDriverManager().install()}\n",
    "browser = Browser('chrome', **executable_path, headless=False)"
   ]
  },
  {
   "cell_type": "code",
   "execution_count": 3,
   "id": "a1e7c248",
   "metadata": {},
   "outputs": [],
   "source": [
    "url = 'https://data-class-mars-challenge.s3.amazonaws.com/Mars/index.html'\n",
    "browser.visit(url)"
   ]
  },
  {
   "cell_type": "code",
   "execution_count": 5,
   "id": "cc2882ba",
   "metadata": {},
   "outputs": [],
   "source": [
    "#create dictionary to store \n",
    "rows = []\n",
    "#scrape for table rows\n",
    "for row in browser.find_by_css('tr'):\n",
    "    rows.append(row.text.split(' '))"
   ]
  },
  {
   "cell_type": "code",
   "execution_count": 6,
   "id": "1d712ffc",
   "metadata": {},
   "outputs": [],
   "source": [
    "#quit browser\n",
    "browser.quit()"
   ]
  },
  {
   "cell_type": "code",
   "execution_count": 13,
   "id": "0a78abb5",
   "metadata": {},
   "outputs": [
    {
     "data": {
      "text/html": [
       "<div>\n",
       "<style scoped>\n",
       "    .dataframe tbody tr th:only-of-type {\n",
       "        vertical-align: middle;\n",
       "    }\n",
       "\n",
       "    .dataframe tbody tr th {\n",
       "        vertical-align: top;\n",
       "    }\n",
       "\n",
       "    .dataframe thead th {\n",
       "        text-align: right;\n",
       "    }\n",
       "</style>\n",
       "<table border=\"1\" class=\"dataframe\">\n",
       "  <thead>\n",
       "    <tr style=\"text-align: right;\">\n",
       "      <th></th>\n",
       "      <th>index</th>\n",
       "      <th>id</th>\n",
       "      <th>terrestrial_date</th>\n",
       "      <th>sol</th>\n",
       "      <th>ls</th>\n",
       "      <th>month</th>\n",
       "      <th>min_temp</th>\n",
       "      <th>pressure</th>\n",
       "    </tr>\n",
       "  </thead>\n",
       "  <tbody>\n",
       "    <tr>\n",
       "      <th>0</th>\n",
       "      <td>1</td>\n",
       "      <td>2</td>\n",
       "      <td>2012-08-16</td>\n",
       "      <td>10</td>\n",
       "      <td>155</td>\n",
       "      <td>6</td>\n",
       "      <td>-75.0</td>\n",
       "      <td>739.0</td>\n",
       "    </tr>\n",
       "    <tr>\n",
       "      <th>1</th>\n",
       "      <td>2</td>\n",
       "      <td>13</td>\n",
       "      <td>2012-08-17</td>\n",
       "      <td>11</td>\n",
       "      <td>156</td>\n",
       "      <td>6</td>\n",
       "      <td>-76.0</td>\n",
       "      <td>740.0</td>\n",
       "    </tr>\n",
       "    <tr>\n",
       "      <th>2</th>\n",
       "      <td>3</td>\n",
       "      <td>24</td>\n",
       "      <td>2012-08-18</td>\n",
       "      <td>12</td>\n",
       "      <td>156</td>\n",
       "      <td>6</td>\n",
       "      <td>-76.0</td>\n",
       "      <td>741.0</td>\n",
       "    </tr>\n",
       "    <tr>\n",
       "      <th>3</th>\n",
       "      <td>4</td>\n",
       "      <td>35</td>\n",
       "      <td>2012-08-19</td>\n",
       "      <td>13</td>\n",
       "      <td>157</td>\n",
       "      <td>6</td>\n",
       "      <td>-74.0</td>\n",
       "      <td>732.0</td>\n",
       "    </tr>\n",
       "    <tr>\n",
       "      <th>4</th>\n",
       "      <td>5</td>\n",
       "      <td>46</td>\n",
       "      <td>2012-08-20</td>\n",
       "      <td>14</td>\n",
       "      <td>157</td>\n",
       "      <td>6</td>\n",
       "      <td>-74.0</td>\n",
       "      <td>740.0</td>\n",
       "    </tr>\n",
       "  </tbody>\n",
       "</table>\n",
       "</div>"
      ],
      "text/plain": [
       "   index  id terrestrial_date sol   ls month min_temp pressure\n",
       "0      1   2       2012-08-16  10  155     6    -75.0    739.0\n",
       "1      2  13       2012-08-17  11  156     6    -76.0    740.0\n",
       "2      3  24       2012-08-18  12  156     6    -76.0    741.0\n",
       "3      4  35       2012-08-19  13  157     6    -74.0    732.0\n",
       "4      5  46       2012-08-20  14  157     6    -74.0    740.0"
      ]
     },
     "execution_count": 13,
     "metadata": {},
     "output_type": "execute_result"
    }
   ],
   "source": [
    "#reading the scrap into a dataframe\n",
    "scraped_data = pd.DataFrame(rows)\n",
    "scraped_data.head()\n",
    "#set column names\n",
    "scraped_data.columns = scraped_data[:1].values[0]\n",
    "scraped_data.head()\n",
    "#remove first row & start index at 0\n",
    "scraped_data = scraped_data.drop([0])\n",
    "scraped_data = scraped_data.reset_index()\n",
    "scraped_data.head()"
   ]
  },
  {
   "cell_type": "code",
   "execution_count": 17,
   "id": "af2bafb6",
   "metadata": {},
   "outputs": [
    {
     "name": "stdout",
     "output_type": "stream",
     "text": [
      "Twelve months exist on Mars.\n"
     ]
    }
   ],
   "source": [
    "#convert dtypes to appropriate dytpes for analysis\n",
    "scraped_data['terrestrial_date'] = pd.to_datetime(scraped_data['terrestrial_date'])\n",
    "scraped_data[['id', 'sol', 'ls', 'month']] = scraped_data[['id', 'sol', 'ls', 'month']].astype(int)\n",
    "scraped_data[['min_temp', 'pressure']]= scraped_data[['min_temp', 'pressure']].astype(float)\n",
    "scraped_data.dtypes\n",
    "scraped_data['month'].unique()\n",
    "print('Twelve months exist on Mars.')"
   ]
  },
  {
   "cell_type": "code",
   "execution_count": 19,
   "id": "6341f408",
   "metadata": {},
   "outputs": [
    {
     "name": "stdout",
     "output_type": "stream",
     "text": [
      "1867 Martian days exist in the dataset.\n"
     ]
    }
   ],
   "source": [
    "scraped_data['sol'].count()\n",
    "print('1867 Martian days exist in the dataset.')"
   ]
  },
  {
   "cell_type": "code",
   "execution_count": 27,
   "id": "5b76228d",
   "metadata": {},
   "outputs": [
    {
     "data": {
      "image/png": "[encoded data removed]",
      "text/plain": [
       "<Figure size 432x288 with 1 Axes>"
      ]
     },
     "metadata": {
      "needs_background": "light"
     },
     "output_type": "display_data"
    },
    {
     "name": "stdout",
     "output_type": "stream",
     "text": [
      "Months 3 and 4 were the coldest.\n"
     ]
    }
   ],
   "source": [
    "#group by month \n",
    "scrapeddata_bymonth = scraped_data.groupby(['month'])\n",
    "#find mean \n",
    "#find the average temp\n",
    "avg_temp = scrapeddata_bymonth[\"min_temp\"].mean()\n",
    "#plot\n",
    "avg_temp.plot(kind=\"bar\")\n",
    "plt.ylabel(\"Degrees (Celcius)\")\n",
    "plt.xlabel(\"Month\")\n",
    "plt.title(\"Average Temp (C) by Month on Mars\")\n",
    "plt.show()\n",
    "print('Months 3 and 4 were the coldest.')"
   ]
  },
  {
   "cell_type": "code",
   "execution_count": 28,
   "id": "f13e677b",
   "metadata": {},
   "outputs": [
    {
     "data": {
      "image/png": "[encoded data removed]",
      "text/plain": [
       "<Figure size 432x288 with 1 Axes>"
      ]
     },
     "metadata": {
      "needs_background": "light"
     },
     "output_type": "display_data"
    },
    {
     "name": "stdout",
     "output_type": "stream",
     "text": [
      "Months 5 and 6 have the lowest atmospheric pressure. Months 9 and 10 have the highest atmospheric pressure.\n"
     ]
    }
   ],
   "source": [
    "#find mean pressure & plot\n",
    "avg_press = scrapeddata_bymonth[\"pressure\"].mean()\n",
    "avg_press.plot(kind=\"bar\")\n",
    "plt.ylabel(\"Atmospheric Pressure (psi)\")\n",
    "plt.xlabel(\"Month\")\n",
    "plt.title(\"Average Atmospheric Pressure on Mars by Month\")\n",
    "plt.show()\n",
    "print('Months 5 and 6 have the lowest atmospheric pressure. Months 9 and 10 have the highest atmospheric pressure.')"
   ]
  },
  {
   "cell_type": "code",
   "execution_count": 30,
   "id": "182ebf17",
   "metadata": {},
   "outputs": [
    {
     "data": {
      "image/png": "[encoded data removed]",
      "text/plain": [
       "<Figure size 432x288 with 1 Axes>"
      ]
     },
     "metadata": {
      "needs_background": "light"
     },
     "output_type": "display_data"
    },
    {
     "name": "stdout",
     "output_type": "stream",
     "text": [
      "Temperatures will be the highest when Mars is closest to the sun, which could represent that point in one year. To estimate one year, we could subtract the amount of days between two of the highest temperatures. 750-150=600 days passed on Earth.\n"
     ]
    }
   ],
   "source": [
    "#plot daily min temp\n",
    "scraped_data[\"min_temp\"].plot()\n",
    "plt.ylabel(\"Minimum Temperature\")\n",
    "plt.xlabel(\"Recorded Transmissions from Curiosity\")\n",
    "plt.title(\"Minumum Temperatures recorded from Curiosity\")\n",
    "plt.show()\n",
    "\n",
    "print('Temperatures will be the highest when Mars is closest to the sun, which could represent that point in one year. To estimate one year, we could subtract the amount of days between two of the highest temperatures. 750-150=600 days passed on Earth.')"
   ]
  },
  {
   "cell_type": "code",
   "execution_count": 31,
   "id": "619873fc",
   "metadata": {},
   "outputs": [],
   "source": [
    "#export to csv file\n",
    "os.makedirs(\"output\", exist_ok=True) \n",
    "scraped_data.to_csv(\"output/scraped_data.csv\", index=False)"
   ]
  },
  {
   "cell_type": "code",
   "execution_count": null,
   "id": "4e84d7ae",
   "metadata": {},
   "outputs": [],
   "source": []
  }
 ],
 "metadata": {
  "kernelspec": {
   "display_name": "PythonData",
   "language": "python",
   "name": "pythondata"
  },
  "language_info": {
   "codemirror_mode": {
    "name": "ipython",
    "version": 3
   },
   "file_extension": ".py",
   "mimetype": "text/x-python",
   "name": "python",
   "nbconvert_exporter": "python",
   "pygments_lexer": "ipython3",
   "version": "3.7.7"
  }
 },
 "nbformat": 4,
 "nbformat_minor": 5
}
