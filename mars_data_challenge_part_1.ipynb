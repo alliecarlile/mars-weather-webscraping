{
 "cells": [
  {
   "cell_type": "code",
   "execution_count": 16,
   "id": "a7e2e922",
   "metadata": {},
   "outputs": [],
   "source": [
    "#import dependencies\n",
    "from splinter import Browser\n",
    "from bs4 import BeautifulSoup as bs\n",
    "from webdriver_manager.chrome import ChromeDriverManager"
   ]
  },
  {
   "cell_type": "code",
   "execution_count": 17,
   "id": "a7415964",
   "metadata": {},
   "outputs": [],
   "source": [
    "executable_path = {'executable_path': ChromeDriverManager().install()}\n",
    "browser = Browser('chrome', **executable_path, headless=False)"
   ]
  },
  {
   "cell_type": "code",
   "execution_count": 18,
   "id": "c2d00bf3",
   "metadata": {},
   "outputs": [],
   "source": [
    "url = 'https://redplanetscience.com/'\n",
    "browser.visit(url)"
   ]
  },
  {
   "cell_type": "code",
   "execution_count": 19,
   "id": "3e6f754b",
   "metadata": {},
   "outputs": [],
   "source": [
    "#scrape title & preview text\n",
    "html = browser.html\n",
    "soup = bs(html, 'html.parser')\n",
    "\n",
    "articles = soup.find_all('div', class_='content_title')\n",
    "descriptions = soup.find_all('div', class_='article_teaser_body')\n",
    "\n",
    "title = []\n",
    "preview = []\n",
    "\n",
    "for article in articles: \n",
    "    title_text = article.text.strip()\n",
    "    title.append(title_text)\n",
    "\n",
    "for description in descriptions:\n",
    "    preview_text = description.text.strip()\n",
    "    preview.append(preview_text)"
   ]
  },
  {
   "cell_type": "code",
   "execution_count": 20,
   "id": "14847531",
   "metadata": {},
   "outputs": [
    {
     "data": {
      "text/plain": [
       "['Mars Is Getting a New Robotic Meteorologist',\n",
       " \"NASA's MAVEN Maps Winds in the Martian Upper Atmosphere that Mirror the Terrain Below and Gives Clues to Martian Climate\",\n",
       " \"NASA's Curiosity Keeps Rolling As Team Operates Rover From Home\",\n",
       " 'Independent Review Indicates NASA Prepared for Mars Sample Return Campaign',\n",
       " \"NASA's Perseverance Mars Rover Gets Its Wheels and Air Brakes\",\n",
       " \"NASA InSight's 'Mole' Is Out of Sight\",\n",
       " 'NASA Administrator Statement on Moon to Mars Initiative, FY 2021 Budget',\n",
       " 'With Mars Methane Mystery Unsolved, Curiosity Serves Scientists a New One: Oxygen',\n",
       " 'NASA Perseverance Mars Rover Scientists Train in the Nevada Desert',\n",
       " \"NASA's MAVEN Observes Martian Night Sky Pulsing in Ultraviolet Light\",\n",
       " \"NASA's Ingenuity Mars Helicopter Recharges Its Batteries in Flight\",\n",
       " 'Mars Scientists Investigate Ancient Life in Australia',\n",
       " 'NASA Establishes Board to Initially Review Mars Sample Return Plans',\n",
       " \"All About the Laser (and Microphone) Atop Mars 2020, NASA's Next Rover\",\n",
       " \"Meet the People Behind NASA's Perseverance Rover\"]"
      ]
     },
     "execution_count": 20,
     "metadata": {},
     "output_type": "execute_result"
    }
   ],
   "source": [
    "title"
   ]
  },
  {
   "cell_type": "code",
   "execution_count": 21,
   "id": "6cd8ff3d",
   "metadata": {},
   "outputs": [
    {
     "data": {
      "text/plain": [
       "[\"Sensors on NASA's Perseverance will help prepare for future human exploration by taking weather measurements and studying dust particles.\",\n",
       " 'Researchers have created the first map of wind circulation in the upper atmosphere of a planet besides Earth, using data from NASA’s MAVEN spacecraft that were collected during the last two years.',\n",
       " 'The team has learned to meet new challenges as they work remotely on the Mars mission.',\n",
       " 'NASA released an independent review report Tuesday indicating the agency is well positioned for its Mars Sample Return campaign to bring pristine samples from Mars to Earth for scientific study.',\n",
       " 'After the rover was shipped from JPL to Kennedy Space Center, the team is getting closer to finalizing the spacecraft for launch later this summer.',\n",
       " \"Now that the heat probe is just below the Martian surface, InSight's arm will scoop some additional soil on top to help it keep digging so it can take Mars' temperature.\",\n",
       " \"Jim Bridenstine addresses NASA's ambitious plans for the coming years, including Mars Sample Return.\",\n",
       " 'For the first time in the history of space exploration, scientists have measured the seasonal changes in the gases that fill the air directly above the surface of Gale Crater on Mars.',\n",
       " \"Team members searched for signs of ancient microscopic life there, just as NASA's latest rover will on the Red Planet next year.\",\n",
       " 'Vast areas of the Martian night sky pulse in ultraviolet light, according to images from NASA’s MAVEN spacecraft. The results are being used to illuminate complex circulation patterns in the Martian atmosphere.',\n",
       " 'Headed to the Red Planet with the Perseverance rover, the pioneering helicopter is powered up for the first time in interplanetary space as part of a systems check.',\n",
       " \"Teams with NASA's Mars 2020 and ESA's ExoMars practiced hunting for fossilized microbial life in the Australian Outback in preparation for their Red Planet missions.\",\n",
       " 'The board will assist with analysis of current plans and goals for one of the most difficult missions humanity has ever undertaken.',\n",
       " 'SuperCam is a rock-vaporizing instrument that will help scientists hunt for Mars fossils.',\n",
       " \"These are the scientists and engineers who built NASA's next Mars rover and who will guide it to a safe landing in Jezero Crater.\"]"
      ]
     },
     "execution_count": 21,
     "metadata": {},
     "output_type": "execute_result"
    }
   ],
   "source": [
    "preview"
   ]
  },
  {
   "cell_type": "code",
   "execution_count": 22,
   "id": "e35d06b0",
   "metadata": {},
   "outputs": [],
   "source": [
    "#quit browser\n",
    "browser.quit()"
   ]
  },
  {
   "cell_type": "code",
   "execution_count": null,
   "id": "4bd95b58",
   "metadata": {},
   "outputs": [],
   "source": []
  }
 ],
 "metadata": {
  "kernelspec": {
   "display_name": "PythonData",
   "language": "python",
   "name": "pythondata"
  },
  "language_info": {
   "codemirror_mode": {
    "name": "ipython",
    "version": 3
   },
   "file_extension": ".py",
   "mimetype": "text/x-python",
   "name": "python",
   "nbconvert_exporter": "python",
   "pygments_lexer": "ipython3",
   "version": "3.7.7"
  }
 },
 "nbformat": 4,
 "nbformat_minor": 5
}
